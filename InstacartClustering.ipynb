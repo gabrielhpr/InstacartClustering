{
 "cells": [
  {
   "cell_type": "markdown",
   "metadata": {
    "heading_collapsed": true
   },
   "source": [
    "# 0.0. Mission"
   ]
  },
  {
   "cell_type": "markdown",
   "metadata": {
    "hidden": true
   },
   "source": [
    "## Context"
   ]
  },
  {
   "cell_type": "markdown",
   "metadata": {
    "hidden": true
   },
   "source": [
    "## About the company"
   ]
  },
  {
   "cell_type": "markdown",
   "metadata": {
    "hidden": true
   },
   "source": [
    "Instacart is an American company that operates a grocery delivery and pick-up service in the United <br>\n",
    "States and Canada. The enterprise has a website where customers can select products to buy. "
   ]
  },
  {
   "cell_type": "markdown",
   "metadata": {
    "hidden": true
   },
   "source": [
    "## Challenge"
   ]
  },
  {
   "cell_type": "markdown",
   "metadata": {
    "hidden": true
   },
   "source": [
    "**INCREASE THE REVENUE**"
   ]
  },
  {
   "cell_type": "markdown",
   "metadata": {
    "hidden": true
   },
   "source": [
    "### Ideas "
   ]
  },
  {
   "cell_type": "markdown",
   "metadata": {
    "ExecuteTime": {
     "end_time": "2021-03-08T22:32:18.666103Z",
     "start_time": "2021-03-08T22:32:18.661429Z"
    },
    "hidden": true
   },
   "source": [
    "- Make the current customers buy more products and with more frequency.\n",
    "- Find new customers"
   ]
  },
  {
   "cell_type": "markdown",
   "metadata": {
    "hidden": true
   },
   "source": [
    "We will focus on the first idea, because our dataset only contains data about the time and items <br>\n",
    "purchased by each customer, to aproach the second idea it would be necessary to have customer personal<br> information as age, address and gender for example."
   ]
  },
  {
   "cell_type": "markdown",
   "metadata": {
    "hidden": true
   },
   "source": [
    "### Selected Idea"
   ]
  },
  {
   "cell_type": "markdown",
   "metadata": {
    "hidden": true
   },
   "source": [
    "**Make the current customers buy more products and with more frequency.**"
   ]
  },
  {
   "cell_type": "markdown",
   "metadata": {
    "hidden": true
   },
   "source": [
    "### HOW ?"
   ]
  },
  {
   "cell_type": "markdown",
   "metadata": {
    "hidden": true
   },
   "source": [
    "One approach: **Segmentating the customers**"
   ]
  },
  {
   "cell_type": "markdown",
   "metadata": {
    "hidden": true
   },
   "source": [
    "Marketing and Sales "
   ]
  },
  {
   "cell_type": "markdown",
   "metadata": {
    "hidden": true
   },
   "source": [
    "So it will be possible to:\n",
    "\n",
    "-Select the main products each group buys more oftenly, and recommend similar products to them.\n",
    "\n",
    "-Offer promotions to the most loyalty group.\n",
    "\n",
    "-Create incentives to infrequent or new customers. \n",
    "\n",
    "-Create marketing strategies to each group. \n",
    "\n"
   ]
  },
  {
   "cell_type": "markdown",
   "metadata": {
    "hidden": true
   },
   "source": [
    "### RFM - Analysis for Customer Segmentation"
   ]
  },
  {
   "cell_type": "markdown",
   "metadata": {
    "hidden": true
   },
   "source": [
    "We are going to use RFM Analysis, that focus on Recency, Frequency and Monetary information about customers"
   ]
  },
  {
   "cell_type": "markdown",
   "metadata": {
    "hidden": true
   },
   "source": [
    "As we dont have information about recency and monetary in our dataset, we are going <br>\n",
    "to consider the average recency from previous orders and consider the amount of <br>\n",
    "products as the monetary information."
   ]
  },
  {
   "cell_type": "markdown",
   "metadata": {},
   "source": [
    "# 1.0. Preparing Process"
   ]
  },
  {
   "cell_type": "markdown",
   "metadata": {
    "ExecuteTime": {
     "end_time": "2021-03-08T23:57:14.248714Z",
     "start_time": "2021-03-08T23:57:14.245577Z"
    }
   },
   "source": [
    "## 1.1. IMPORTS"
   ]
  },
  {
   "cell_type": "code",
   "execution_count": 266,
   "metadata": {
    "ExecuteTime": {
     "end_time": "2021-03-15T02:26:21.046606Z",
     "start_time": "2021-03-15T02:26:18.986795Z"
    }
   },
   "outputs": [
    {
     "data": {
      "text/html": [
       "<style>.container { width:100% !important; }</style>"
      ],
      "text/plain": [
       "<IPython.core.display.HTML object>"
      ]
     },
     "metadata": {},
     "output_type": "display_data"
    },
    {
     "data": {
      "text/html": [
       "<style>h1 { font-size:23px !important; }</style>"
      ],
      "text/plain": [
       "<IPython.core.display.HTML object>"
      ]
     },
     "metadata": {},
     "output_type": "display_data"
    },
    {
     "data": {
      "text/html": [
       "<style>h2 { font-size:20px !important; }</style>"
      ],
      "text/plain": [
       "<IPython.core.display.HTML object>"
      ]
     },
     "metadata": {},
     "output_type": "display_data"
    },
    {
     "data": {
      "text/html": [
       "<style>h3 { font-size:17px !important; }</style>"
      ],
      "text/plain": [
       "<IPython.core.display.HTML object>"
      ]
     },
     "metadata": {},
     "output_type": "display_data"
    },
    {
     "data": {
      "text/html": [
       "<style>h4 { font-size:16px !important; }</style>"
      ],
      "text/plain": [
       "<IPython.core.display.HTML object>"
      ]
     },
     "metadata": {},
     "output_type": "display_data"
    },
    {
     "data": {
      "text/html": [
       "<style>p { font-size:16px !important; }</style>"
      ],
      "text/plain": [
       "<IPython.core.display.HTML object>"
      ]
     },
     "metadata": {},
     "output_type": "display_data"
    },
    {
     "data": {
      "text/html": [
       "<style>th { font-size:15px !important; }</style>"
      ],
      "text/plain": [
       "<IPython.core.display.HTML object>"
      ]
     },
     "metadata": {},
     "output_type": "display_data"
    },
    {
     "data": {
      "text/html": [
       "<style>td { font-size:15px !important; }</style>"
      ],
      "text/plain": [
       "<IPython.core.display.HTML object>"
      ]
     },
     "metadata": {},
     "output_type": "display_data"
    },
    {
     "data": {
      "text/html": [
       "<style>span { font-size:16px !important; }</style>"
      ],
      "text/plain": [
       "<IPython.core.display.HTML object>"
      ]
     },
     "metadata": {},
     "output_type": "display_data"
    }
   ],
   "source": [
    "import pandas as pd\n",
    "import math \n",
    "import numpy as np\n",
    "from scipy import stats as ss \n",
    "import matplotlib.pyplot as plt\n",
    "import seaborn as sns\n",
    "from sklearn.preprocessing   import RobustScaler, MinMaxScaler\n",
    "\n",
    "\n",
    "###--------- PANDAS - EXIBIR TODAS COLUNAS ----###\n",
    "\n",
    "pd.set_option('display.max_columns', None)\n",
    "\n",
    "\n",
    "###--------- ESTILIZAÇÃO DO NOTEBOOK ---------###\n",
    "\n",
    "from IPython.core.display import display, HTML\n",
    "\n",
    "# retira a margem do notebook\n",
    "display(HTML(\"<style>.container { width:100% !important; }</style>\"))\n",
    "\n",
    "# font do texto markdown\n",
    "display(HTML(\"<style>h1 { font-size:23px !important; }</style>\"))\n",
    "display(HTML(\"<style>h2 { font-size:20px !important; }</style>\"))\n",
    "display(HTML(\"<style>h3 { font-size:17px !important; }</style>\"))\n",
    "display(HTML(\"<style>h4 { font-size:16px !important; }</style>\"))\n",
    "display(HTML(\"<style>p { font-size:16px !important; }</style>\"))\n",
    "\n",
    "# tamanho da fonte da tabela\n",
    "display(HTML(\"<style>th { font-size:15px !important; }</style>\"))\n",
    "display(HTML(\"<style>td { font-size:15px !important; }</style>\"))\n",
    "\n",
    "# font do codigo \n",
    "display(HTML(\"<style>span { font-size:16px !important; }</style>\"))"
   ]
  },
  {
   "cell_type": "markdown",
   "metadata": {},
   "source": [
    "## 1.2. Helper Functions"
   ]
  },
  {
   "cell_type": "markdown",
   "metadata": {
    "heading_collapsed": true
   },
   "source": [
    "## 1.3. Merging data"
   ]
  },
  {
   "cell_type": "code",
   "execution_count": 2,
   "metadata": {
    "ExecuteTime": {
     "end_time": "2021-03-14T21:07:31.411335Z",
     "start_time": "2021-03-14T21:07:31.405199Z"
    },
    "hidden": true
   },
   "outputs": [
    {
     "data": {
      "text/plain": [
       "\"\\naisles_df = pd.read_csv('data/aisles.csv')\\ndepartments_df = pd.read_csv('data/departments.csv')\\norder_products_prior_df = pd.read_csv('data/order_products__prior.csv')\\norder_products_train_df = pd.read_csv('data/order_products__train.csv')\\norders_df = pd.read_csv('data/orders.csv')\\nproducts_df = pd.read_csv('data/products.csv')\\n\""
      ]
     },
     "execution_count": 2,
     "metadata": {},
     "output_type": "execute_result"
    }
   ],
   "source": [
    "'''\n",
    "aisles_df = pd.read_csv('data/aisles.csv')\n",
    "departments_df = pd.read_csv('data/departments.csv')\n",
    "order_products_prior_df = pd.read_csv('data/order_products__prior.csv')\n",
    "order_products_train_df = pd.read_csv('data/order_products__train.csv')\n",
    "orders_df = pd.read_csv('data/orders.csv')\n",
    "products_df = pd.read_csv('data/products.csv')\n",
    "'''"
   ]
  },
  {
   "cell_type": "code",
   "execution_count": 3,
   "metadata": {
    "ExecuteTime": {
     "end_time": "2021-03-14T21:07:31.615665Z",
     "start_time": "2021-03-14T21:07:31.414759Z"
    },
    "hidden": true
   },
   "outputs": [
    {
     "data": {
      "text/plain": [
       "'\\nprint( \"aisles shape: \" + str(aisles_df.shape) )\\nprint( \"departments shape: \" + str(departments_df.shape) )\\nprint( \"order_products_prior shape: \" + str(order_products_prior_df.shape) )\\nprint( \"order_products_train shape: \" + str(order_products_train_df.shape) )\\nprint( \"orders shape: \" + str(orders_df.shape) )\\nprint( \"products shape: \" + str(products_df.shape) )\\n'"
      ]
     },
     "execution_count": 3,
     "metadata": {},
     "output_type": "execute_result"
    }
   ],
   "source": [
    "# Dimensions\n",
    "'''\n",
    "print( \"aisles shape: \" + str(aisles_df.shape) )\n",
    "print( \"departments shape: \" + str(departments_df.shape) )\n",
    "print( \"order_products_prior shape: \" + str(order_products_prior_df.shape) )\n",
    "print( \"order_products_train shape: \" + str(order_products_train_df.shape) )\n",
    "print( \"orders shape: \" + str(orders_df.shape) )\n",
    "print( \"products shape: \" + str(products_df.shape) )\n",
    "'''"
   ]
  },
  {
   "cell_type": "markdown",
   "metadata": {
    "hidden": true
   },
   "source": [
    "### order_products_prior"
   ]
  },
  {
   "cell_type": "code",
   "execution_count": 4,
   "metadata": {
    "ExecuteTime": {
     "end_time": "2021-03-14T21:07:31.749607Z",
     "start_time": "2021-03-14T21:07:31.618132Z"
    },
    "hidden": true
   },
   "outputs": [],
   "source": [
    "# order_products_prior_df.head(3)"
   ]
  },
  {
   "cell_type": "markdown",
   "metadata": {
    "ExecuteTime": {
     "end_time": "2021-03-09T00:17:14.278038Z",
     "start_time": "2021-03-09T00:17:14.269181Z"
    },
    "hidden": true
   },
   "source": [
    "### order_products_train"
   ]
  },
  {
   "cell_type": "code",
   "execution_count": 5,
   "metadata": {
    "ExecuteTime": {
     "end_time": "2021-03-14T21:07:32.835288Z",
     "start_time": "2021-03-14T21:07:31.754502Z"
    },
    "hidden": true
   },
   "outputs": [],
   "source": [
    "#order_products_train_df.head(3)"
   ]
  },
  {
   "cell_type": "markdown",
   "metadata": {
    "hidden": true
   },
   "source": [
    "### Append the order_products_train to the end of order_products_prior"
   ]
  },
  {
   "cell_type": "code",
   "execution_count": 6,
   "metadata": {
    "ExecuteTime": {
     "end_time": "2021-03-14T21:07:34.476788Z",
     "start_time": "2021-03-14T21:07:32.840395Z"
    },
    "hidden": true
   },
   "outputs": [],
   "source": [
    "#order_products_df = order_products_prior_df.append(order_products_train_df, ignore_index=True)"
   ]
  },
  {
   "cell_type": "code",
   "execution_count": 7,
   "metadata": {
    "ExecuteTime": {
     "end_time": "2021-03-14T21:07:35.519354Z",
     "start_time": "2021-03-14T21:07:34.479447Z"
    },
    "hidden": true
   },
   "outputs": [],
   "source": [
    "#order_products_df.head(3)"
   ]
  },
  {
   "cell_type": "markdown",
   "metadata": {
    "ExecuteTime": {
     "end_time": "2021-03-09T00:18:39.875716Z",
     "start_time": "2021-03-09T00:18:39.861989Z"
    },
    "hidden": true
   },
   "source": [
    "### orders"
   ]
  },
  {
   "cell_type": "code",
   "execution_count": 8,
   "metadata": {
    "ExecuteTime": {
     "end_time": "2021-03-14T21:07:36.896651Z",
     "start_time": "2021-03-14T21:07:35.523440Z"
    },
    "hidden": true
   },
   "outputs": [],
   "source": [
    "#orders_df.head(3)"
   ]
  },
  {
   "cell_type": "markdown",
   "metadata": {
    "hidden": true
   },
   "source": [
    "### products"
   ]
  },
  {
   "cell_type": "code",
   "execution_count": 9,
   "metadata": {
    "ExecuteTime": {
     "end_time": "2021-03-14T21:07:38.248414Z",
     "start_time": "2021-03-14T21:07:36.900020Z"
    },
    "hidden": true
   },
   "outputs": [],
   "source": [
    "#products_df.head(3)"
   ]
  },
  {
   "cell_type": "markdown",
   "metadata": {
    "ExecuteTime": {
     "end_time": "2021-03-09T00:15:05.452979Z",
     "start_time": "2021-03-09T00:15:03.964989Z"
    },
    "hidden": true
   },
   "source": [
    "### Aisles"
   ]
  },
  {
   "cell_type": "code",
   "execution_count": 10,
   "metadata": {
    "ExecuteTime": {
     "end_time": "2021-03-14T21:07:39.558335Z",
     "start_time": "2021-03-14T21:07:38.252804Z"
    },
    "hidden": true
   },
   "outputs": [],
   "source": [
    "#aisles_df.head(3)"
   ]
  },
  {
   "cell_type": "markdown",
   "metadata": {
    "hidden": true
   },
   "source": [
    "### departments"
   ]
  },
  {
   "cell_type": "code",
   "execution_count": 11,
   "metadata": {
    "ExecuteTime": {
     "end_time": "2021-03-14T21:07:40.573509Z",
     "start_time": "2021-03-14T21:07:39.560882Z"
    },
    "hidden": true
   },
   "outputs": [],
   "source": [
    "#departments_df.head(3)"
   ]
  },
  {
   "cell_type": "markdown",
   "metadata": {
    "hidden": true
   },
   "source": [
    "### JOIN the tables: products, Aisles and departments"
   ]
  },
  {
   "cell_type": "code",
   "execution_count": 12,
   "metadata": {
    "ExecuteTime": {
     "end_time": "2021-03-14T21:07:41.531420Z",
     "start_time": "2021-03-14T21:07:40.577272Z"
    },
    "hidden": true
   },
   "outputs": [],
   "source": [
    "# Join the three tables: products, aisles, departments\n",
    "#products_info_df = pd.merge(products_df, aisles_df, how='inner', on='aisle_id')\n",
    "#products_info_df = pd.merge(products_info_df, departments_df, how='inner', on='department_id')\n",
    "\n",
    "# rearrange columns\n",
    "#columns_names = list( products_info_df.columns )\n",
    "#columns_names[3], columns_names[4] = columns_names[4], columns_names[3]\n",
    "#products_info_df = products_info_df.reindex(columns=columns_names)"
   ]
  },
  {
   "cell_type": "code",
   "execution_count": 13,
   "metadata": {
    "ExecuteTime": {
     "end_time": "2021-03-14T21:07:41.704372Z",
     "start_time": "2021-03-14T21:07:41.533652Z"
    },
    "hidden": true
   },
   "outputs": [],
   "source": [
    "#products_info_df.head(5)"
   ]
  },
  {
   "cell_type": "markdown",
   "metadata": {
    "heading_collapsed": true,
    "hidden": true
   },
   "source": [
    "### JOIN orders, order_products and products info "
   ]
  },
  {
   "cell_type": "code",
   "execution_count": 14,
   "metadata": {
    "ExecuteTime": {
     "end_time": "2021-03-14T21:07:41.771985Z",
     "start_time": "2021-03-14T21:07:41.706755Z"
    },
    "hidden": true
   },
   "outputs": [],
   "source": [
    "#df1 = pd.merge(order_products_df, orders_df, how='inner', on='order_id')\n",
    "#df1 = pd.merge(df1, products_info_df, how='inner', on='product_id')\n",
    "\n",
    "# sort the order_id column\n",
    "#df1.sort_values(by='order_id', inplace=True)\n",
    "\n",
    "# save the new dataset \n",
    "#df1 = df1.iloc[:1000000, :]\n",
    "#df1.to_csv(path_or_buf='data/dataset.csv')"
   ]
  },
  {
   "cell_type": "markdown",
   "metadata": {
    "heading_collapsed": true
   },
   "source": [
    "## 1.4. Loading Data"
   ]
  },
  {
   "cell_type": "code",
   "execution_count": 15,
   "metadata": {
    "ExecuteTime": {
     "end_time": "2021-03-14T21:07:45.222005Z",
     "start_time": "2021-03-14T21:07:41.774200Z"
    },
    "hidden": true
   },
   "outputs": [],
   "source": [
    "df_raw = pd.read_csv('data/dataset.csv')"
   ]
  },
  {
   "cell_type": "code",
   "execution_count": 16,
   "metadata": {
    "ExecuteTime": {
     "end_time": "2021-03-14T21:07:45.335265Z",
     "start_time": "2021-03-14T21:07:45.224422Z"
    },
    "hidden": true
   },
   "outputs": [],
   "source": [
    "df_raw.drop(axis=0, columns=['Unnamed: 0','eval_set'], inplace=True)"
   ]
  },
  {
   "cell_type": "code",
   "execution_count": 17,
   "metadata": {
    "ExecuteTime": {
     "end_time": "2021-03-14T21:07:45.414738Z",
     "start_time": "2021-03-14T21:07:45.337532Z"
    },
    "hidden": true
   },
   "outputs": [
    {
     "data": {
      "text/html": [
       "<div>\n",
       "<style scoped>\n",
       "    .dataframe tbody tr th:only-of-type {\n",
       "        vertical-align: middle;\n",
       "    }\n",
       "\n",
       "    .dataframe tbody tr th {\n",
       "        vertical-align: top;\n",
       "    }\n",
       "\n",
       "    .dataframe thead th {\n",
       "        text-align: right;\n",
       "    }\n",
       "</style>\n",
       "<table border=\"1\" class=\"dataframe\">\n",
       "  <thead>\n",
       "    <tr style=\"text-align: right;\">\n",
       "      <th></th>\n",
       "      <th>order_id</th>\n",
       "      <th>product_id</th>\n",
       "      <th>add_to_cart_order</th>\n",
       "      <th>reordered</th>\n",
       "      <th>user_id</th>\n",
       "      <th>order_number</th>\n",
       "      <th>order_dow</th>\n",
       "      <th>order_hour_of_day</th>\n",
       "      <th>days_since_prior_order</th>\n",
       "      <th>product_name</th>\n",
       "      <th>aisle_id</th>\n",
       "      <th>aisle</th>\n",
       "      <th>department_id</th>\n",
       "      <th>department</th>\n",
       "    </tr>\n",
       "  </thead>\n",
       "  <tbody>\n",
       "    <tr>\n",
       "      <th>0</th>\n",
       "      <td>1</td>\n",
       "      <td>43633</td>\n",
       "      <td>5</td>\n",
       "      <td>1</td>\n",
       "      <td>112108</td>\n",
       "      <td>4</td>\n",
       "      <td>4</td>\n",
       "      <td>10</td>\n",
       "      <td>9.0</td>\n",
       "      <td>Lightly Smoked Sardines in Olive Oil</td>\n",
       "      <td>95</td>\n",
       "      <td>canned meat seafood</td>\n",
       "      <td>15</td>\n",
       "      <td>canned goods</td>\n",
       "    </tr>\n",
       "    <tr>\n",
       "      <th>1</th>\n",
       "      <td>1</td>\n",
       "      <td>47209</td>\n",
       "      <td>7</td>\n",
       "      <td>0</td>\n",
       "      <td>112108</td>\n",
       "      <td>4</td>\n",
       "      <td>4</td>\n",
       "      <td>10</td>\n",
       "      <td>9.0</td>\n",
       "      <td>Organic Hass Avocado</td>\n",
       "      <td>24</td>\n",
       "      <td>fresh fruits</td>\n",
       "      <td>4</td>\n",
       "      <td>produce</td>\n",
       "    </tr>\n",
       "    <tr>\n",
       "      <th>2</th>\n",
       "      <td>1</td>\n",
       "      <td>10246</td>\n",
       "      <td>3</td>\n",
       "      <td>0</td>\n",
       "      <td>112108</td>\n",
       "      <td>4</td>\n",
       "      <td>4</td>\n",
       "      <td>10</td>\n",
       "      <td>9.0</td>\n",
       "      <td>Organic Celery Hearts</td>\n",
       "      <td>83</td>\n",
       "      <td>fresh vegetables</td>\n",
       "      <td>4</td>\n",
       "      <td>produce</td>\n",
       "    </tr>\n",
       "    <tr>\n",
       "      <th>3</th>\n",
       "      <td>1</td>\n",
       "      <td>49302</td>\n",
       "      <td>1</td>\n",
       "      <td>1</td>\n",
       "      <td>112108</td>\n",
       "      <td>4</td>\n",
       "      <td>4</td>\n",
       "      <td>10</td>\n",
       "      <td>9.0</td>\n",
       "      <td>Bulgarian Yogurt</td>\n",
       "      <td>120</td>\n",
       "      <td>yogurt</td>\n",
       "      <td>16</td>\n",
       "      <td>dairy eggs</td>\n",
       "    </tr>\n",
       "    <tr>\n",
       "      <th>4</th>\n",
       "      <td>1</td>\n",
       "      <td>13176</td>\n",
       "      <td>6</td>\n",
       "      <td>0</td>\n",
       "      <td>112108</td>\n",
       "      <td>4</td>\n",
       "      <td>4</td>\n",
       "      <td>10</td>\n",
       "      <td>9.0</td>\n",
       "      <td>Bag of Organic Bananas</td>\n",
       "      <td>24</td>\n",
       "      <td>fresh fruits</td>\n",
       "      <td>4</td>\n",
       "      <td>produce</td>\n",
       "    </tr>\n",
       "  </tbody>\n",
       "</table>\n",
       "</div>"
      ],
      "text/plain": [
       "   order_id  product_id  add_to_cart_order  reordered  user_id  order_number  \\\n",
       "0         1       43633                  5          1   112108             4   \n",
       "1         1       47209                  7          0   112108             4   \n",
       "2         1       10246                  3          0   112108             4   \n",
       "3         1       49302                  1          1   112108             4   \n",
       "4         1       13176                  6          0   112108             4   \n",
       "\n",
       "   order_dow  order_hour_of_day  days_since_prior_order  \\\n",
       "0          4                 10                     9.0   \n",
       "1          4                 10                     9.0   \n",
       "2          4                 10                     9.0   \n",
       "3          4                 10                     9.0   \n",
       "4          4                 10                     9.0   \n",
       "\n",
       "                           product_name  aisle_id                aisle  \\\n",
       "0  Lightly Smoked Sardines in Olive Oil        95  canned meat seafood   \n",
       "1                  Organic Hass Avocado        24         fresh fruits   \n",
       "2                 Organic Celery Hearts        83     fresh vegetables   \n",
       "3                      Bulgarian Yogurt       120               yogurt   \n",
       "4                Bag of Organic Bananas        24         fresh fruits   \n",
       "\n",
       "   department_id    department  \n",
       "0             15  canned goods  \n",
       "1              4       produce  \n",
       "2              4       produce  \n",
       "3             16    dairy eggs  \n",
       "4              4       produce  "
      ]
     },
     "execution_count": 17,
     "metadata": {},
     "output_type": "execute_result"
    }
   ],
   "source": [
    "df_raw.head()"
   ]
  },
  {
   "cell_type": "code",
   "execution_count": 18,
   "metadata": {
    "ExecuteTime": {
     "end_time": "2021-03-14T21:07:45.513079Z",
     "start_time": "2021-03-14T21:07:45.417444Z"
    },
    "hidden": true
   },
   "outputs": [
    {
     "data": {
      "text/plain": [
       "(1000000, 14)"
      ]
     },
     "execution_count": 18,
     "metadata": {},
     "output_type": "execute_result"
    }
   ],
   "source": [
    "df_raw.shape"
   ]
  },
  {
   "cell_type": "markdown",
   "metadata": {},
   "source": [
    "# 2.0. Data Description"
   ]
  },
  {
   "cell_type": "code",
   "execution_count": 19,
   "metadata": {
    "ExecuteTime": {
     "end_time": "2021-03-14T21:07:45.640254Z",
     "start_time": "2021-03-14T21:07:45.515565Z"
    }
   },
   "outputs": [],
   "source": [
    "df2 = df_raw.copy()"
   ]
  },
  {
   "cell_type": "markdown",
   "metadata": {
    "heading_collapsed": true
   },
   "source": [
    "## 2.1. Rename columns"
   ]
  },
  {
   "cell_type": "code",
   "execution_count": 20,
   "metadata": {
    "ExecuteTime": {
     "end_time": "2021-03-14T21:07:45.685939Z",
     "start_time": "2021-03-14T21:07:45.642504Z"
    },
    "hidden": true
   },
   "outputs": [
    {
     "data": {
      "text/plain": [
       "Index(['order_id', 'product_id', 'add_to_cart_order', 'reordered', 'user_id',\n",
       "       'order_number', 'order_dow', 'order_hour_of_day',\n",
       "       'days_since_prior_order', 'product_name', 'aisle_id', 'aisle',\n",
       "       'department_id', 'department'],\n",
       "      dtype='object')"
      ]
     },
     "execution_count": 20,
     "metadata": {},
     "output_type": "execute_result"
    }
   ],
   "source": [
    "df2.columns"
   ]
  },
  {
   "cell_type": "code",
   "execution_count": 21,
   "metadata": {
    "ExecuteTime": {
     "end_time": "2021-03-14T21:07:45.761577Z",
     "start_time": "2021-03-14T21:07:45.688302Z"
    },
    "hidden": true
   },
   "outputs": [],
   "source": [
    "cols_old_name = [\n",
    "                'order_id', 'product_id', 'add_to_cart_order', 'reordered', 'user_id',\n",
    "                'order_number', 'order_dow', 'order_hour_of_day',\n",
    "                'days_since_prior_order', 'product_name', 'aisle_id', 'aisle',\n",
    "                'department_id', 'department'\n",
    "]\n",
    "\n",
    "# changed order_dow to order_day_of_week\n",
    "cols_new_name = [\n",
    "                'order_id', 'product_id', 'add_to_cart_order', 'reordered', 'user_id',\n",
    "                'order_number', 'order_day_of_week', 'order_hour_of_day',\n",
    "                'days_since_prior_order', 'product_name', 'aisle_id', 'aisle',\n",
    "                'department_id', 'department'\n",
    "]"
   ]
  },
  {
   "cell_type": "code",
   "execution_count": 22,
   "metadata": {
    "ExecuteTime": {
     "end_time": "2021-03-14T21:07:45.983780Z",
     "start_time": "2021-03-14T21:07:45.763728Z"
    },
    "hidden": true
   },
   "outputs": [],
   "source": [
    "df2.columns = cols_new_name"
   ]
  },
  {
   "cell_type": "markdown",
   "metadata": {
    "heading_collapsed": true
   },
   "source": [
    "## 2.2. Data Dimensions"
   ]
  },
  {
   "cell_type": "code",
   "execution_count": 23,
   "metadata": {
    "ExecuteTime": {
     "end_time": "2021-03-14T21:07:46.745571Z",
     "start_time": "2021-03-14T21:07:45.985801Z"
    },
    "hidden": true
   },
   "outputs": [
    {
     "name": "stdout",
     "output_type": "stream",
     "text": [
      "Number of rows: 1000000\n",
      "Number of columns: 14\n"
     ]
    }
   ],
   "source": [
    "print('Number of rows: {}'.format( df2.shape[0] ))\n",
    "print('Number of columns: {}'.format( df2.shape[1] ))"
   ]
  },
  {
   "cell_type": "markdown",
   "metadata": {
    "heading_collapsed": true
   },
   "source": [
    "## 2.3. Data Types"
   ]
  },
  {
   "cell_type": "code",
   "execution_count": 24,
   "metadata": {
    "ExecuteTime": {
     "end_time": "2021-03-14T21:07:47.280706Z",
     "start_time": "2021-03-14T21:07:46.748236Z"
    },
    "hidden": true
   },
   "outputs": [
    {
     "data": {
      "text/plain": [
       "order_id                    int64\n",
       "product_id                  int64\n",
       "add_to_cart_order           int64\n",
       "reordered                   int64\n",
       "user_id                     int64\n",
       "order_number                int64\n",
       "order_day_of_week           int64\n",
       "order_hour_of_day           int64\n",
       "days_since_prior_order    float64\n",
       "product_name               object\n",
       "aisle_id                    int64\n",
       "aisle                      object\n",
       "department_id               int64\n",
       "department                 object\n",
       "dtype: object"
      ]
     },
     "execution_count": 24,
     "metadata": {},
     "output_type": "execute_result"
    }
   ],
   "source": [
    "df2.dtypes"
   ]
  },
  {
   "cell_type": "markdown",
   "metadata": {
    "heading_collapsed": true
   },
   "source": [
    "## 2.4. Check NA"
   ]
  },
  {
   "cell_type": "code",
   "execution_count": 35,
   "metadata": {
    "ExecuteTime": {
     "end_time": "2021-03-14T21:12:28.687140Z",
     "start_time": "2021-03-14T21:12:28.514271Z"
    },
    "hidden": true
   },
   "outputs": [
    {
     "data": {
      "text/plain": [
       "order_id                      0\n",
       "product_id                    0\n",
       "add_to_cart_order             0\n",
       "reordered                     0\n",
       "user_id                       0\n",
       "order_number                  0\n",
       "order_day_of_week             0\n",
       "order_hour_of_day             0\n",
       "days_since_prior_order    61293\n",
       "product_name                  0\n",
       "aisle_id                      0\n",
       "aisle                         0\n",
       "department_id                 0\n",
       "department                    0\n",
       "dtype: int64"
      ]
     },
     "execution_count": 35,
     "metadata": {},
     "output_type": "execute_result"
    }
   ],
   "source": [
    "df2.isna().sum()"
   ]
  },
  {
   "cell_type": "markdown",
   "metadata": {
    "heading_collapsed": true
   },
   "source": [
    "## 2.5. Fillout NA"
   ]
  },
  {
   "cell_type": "markdown",
   "metadata": {
    "hidden": true
   },
   "source": [
    "days_since_prior_order - a NA means that the customer is a new customer, that has never bought anything previously, so we will change the Nan by a -1."
   ]
  },
  {
   "cell_type": "code",
   "execution_count": 40,
   "metadata": {
    "ExecuteTime": {
     "end_time": "2021-03-14T21:17:19.031352Z",
     "start_time": "2021-03-14T21:17:18.764854Z"
    },
    "hidden": true
   },
   "outputs": [],
   "source": [
    "df2['days_since_prior_order'] = df2['days_since_prior_order'].apply(lambda x: -1 if math.isnan( x ) else x )"
   ]
  },
  {
   "cell_type": "markdown",
   "metadata": {
    "heading_collapsed": true
   },
   "source": [
    "## 2.6. Change types"
   ]
  },
  {
   "cell_type": "code",
   "execution_count": 46,
   "metadata": {
    "ExecuteTime": {
     "end_time": "2021-03-14T21:19:44.360532Z",
     "start_time": "2021-03-14T21:19:44.344729Z"
    },
    "hidden": true
   },
   "outputs": [
    {
     "data": {
      "text/plain": [
       "order_id                    int64\n",
       "product_id                  int64\n",
       "add_to_cart_order           int64\n",
       "reordered                   int64\n",
       "user_id                     int64\n",
       "order_number                int64\n",
       "order_day_of_week           int64\n",
       "order_hour_of_day           int64\n",
       "days_since_prior_order    float64\n",
       "product_name               object\n",
       "aisle_id                    int64\n",
       "aisle                      object\n",
       "department_id               int64\n",
       "department                 object\n",
       "dtype: object"
      ]
     },
     "execution_count": 46,
     "metadata": {},
     "output_type": "execute_result"
    }
   ],
   "source": [
    "df2.dtypes"
   ]
  },
  {
   "cell_type": "code",
   "execution_count": 49,
   "metadata": {
    "ExecuteTime": {
     "end_time": "2021-03-14T21:21:35.881003Z",
     "start_time": "2021-03-14T21:21:35.869580Z"
    },
    "hidden": true
   },
   "outputs": [],
   "source": [
    "# days_since_prior_order can be converted from float to int\n",
    "df2['days_since_prior_order'] = df2['days_since_prior_order'].astype(int)"
   ]
  },
  {
   "cell_type": "code",
   "execution_count": 50,
   "metadata": {
    "ExecuteTime": {
     "end_time": "2021-03-14T21:21:43.606094Z",
     "start_time": "2021-03-14T21:21:43.592124Z"
    },
    "hidden": true
   },
   "outputs": [
    {
     "data": {
      "text/plain": [
       "order_id                   int64\n",
       "product_id                 int64\n",
       "add_to_cart_order          int64\n",
       "reordered                  int64\n",
       "user_id                    int64\n",
       "order_number               int64\n",
       "order_day_of_week          int64\n",
       "order_hour_of_day          int64\n",
       "days_since_prior_order     int64\n",
       "product_name              object\n",
       "aisle_id                   int64\n",
       "aisle                     object\n",
       "department_id              int64\n",
       "department                object\n",
       "dtype: object"
      ]
     },
     "execution_count": 50,
     "metadata": {},
     "output_type": "execute_result"
    }
   ],
   "source": [
    "df2.dtypes"
   ]
  },
  {
   "cell_type": "markdown",
   "metadata": {
    "heading_collapsed": true
   },
   "source": [
    "## 2.7. Descriptive Statistics"
   ]
  },
  {
   "cell_type": "markdown",
   "metadata": {
    "heading_collapsed": true,
    "hidden": true
   },
   "source": [
    "### Split data between numerical and categorical variables"
   ]
  },
  {
   "cell_type": "code",
   "execution_count": 52,
   "metadata": {
    "ExecuteTime": {
     "end_time": "2021-03-14T21:25:35.172249Z",
     "start_time": "2021-03-14T21:25:35.086391Z"
    },
    "hidden": true
   },
   "outputs": [],
   "source": [
    "num_data = df2.select_dtypes( include=['int64'] )\n",
    "cat_data = df2.select_dtypes( exclude=['int64'] )"
   ]
  },
  {
   "cell_type": "markdown",
   "metadata": {
    "heading_collapsed": true,
    "hidden": true
   },
   "source": [
    "### Statistics"
   ]
  },
  {
   "cell_type": "code",
   "execution_count": 100,
   "metadata": {
    "ExecuteTime": {
     "end_time": "2021-03-14T21:55:33.797662Z",
     "start_time": "2021-03-14T21:55:29.561348Z"
    },
    "hidden": true
   },
   "outputs": [
    {
     "data": {
      "text/html": [
       "<div>\n",
       "<style scoped>\n",
       "    .dataframe tbody tr th:only-of-type {\n",
       "        vertical-align: middle;\n",
       "    }\n",
       "\n",
       "    .dataframe tbody tr th {\n",
       "        vertical-align: top;\n",
       "    }\n",
       "\n",
       "    .dataframe thead th {\n",
       "        text-align: right;\n",
       "    }\n",
       "</style>\n",
       "<table border=\"1\" class=\"dataframe\">\n",
       "  <thead>\n",
       "    <tr style=\"text-align: right;\">\n",
       "      <th></th>\n",
       "      <th>attributes</th>\n",
       "      <th>min</th>\n",
       "      <th>max</th>\n",
       "      <th>range</th>\n",
       "      <th>mean</th>\n",
       "      <th>median</th>\n",
       "      <th>std</th>\n",
       "      <th>skew</th>\n",
       "      <th>kurtosis</th>\n",
       "    </tr>\n",
       "  </thead>\n",
       "  <tbody>\n",
       "    <tr>\n",
       "      <th>0</th>\n",
       "      <td>order_id</td>\n",
       "      <td>1.0</td>\n",
       "      <td>101299.0</td>\n",
       "      <td>101298.0</td>\n",
       "      <td>50663.107511</td>\n",
       "      <td>50642.0</td>\n",
       "      <td>29287.149555</td>\n",
       "      <td>0.001838</td>\n",
       "      <td>-1.203221</td>\n",
       "    </tr>\n",
       "    <tr>\n",
       "      <th>1</th>\n",
       "      <td>product_id</td>\n",
       "      <td>1.0</td>\n",
       "      <td>49688.0</td>\n",
       "      <td>49687.0</td>\n",
       "      <td>25576.224010</td>\n",
       "      <td>25266.0</td>\n",
       "      <td>14098.905624</td>\n",
       "      <td>-0.021020</td>\n",
       "      <td>-1.141383</td>\n",
       "    </tr>\n",
       "    <tr>\n",
       "      <th>2</th>\n",
       "      <td>add_to_cart_order</td>\n",
       "      <td>1.0</td>\n",
       "      <td>127.0</td>\n",
       "      <td>126.0</td>\n",
       "      <td>8.356323</td>\n",
       "      <td>6.0</td>\n",
       "      <td>7.163926</td>\n",
       "      <td>1.928983</td>\n",
       "      <td>7.325248</td>\n",
       "    </tr>\n",
       "    <tr>\n",
       "      <th>3</th>\n",
       "      <td>reordered</td>\n",
       "      <td>0.0</td>\n",
       "      <td>1.0</td>\n",
       "      <td>1.0</td>\n",
       "      <td>0.590309</td>\n",
       "      <td>1.0</td>\n",
       "      <td>0.491777</td>\n",
       "      <td>-0.367277</td>\n",
       "      <td>-1.865111</td>\n",
       "    </tr>\n",
       "    <tr>\n",
       "      <th>4</th>\n",
       "      <td>user_id</td>\n",
       "      <td>4.0</td>\n",
       "      <td>206208.0</td>\n",
       "      <td>206204.0</td>\n",
       "      <td>102979.114973</td>\n",
       "      <td>102716.0</td>\n",
       "      <td>59435.539579</td>\n",
       "      <td>0.001047</td>\n",
       "      <td>-1.198345</td>\n",
       "    </tr>\n",
       "    <tr>\n",
       "      <th>5</th>\n",
       "      <td>order_number</td>\n",
       "      <td>1.0</td>\n",
       "      <td>100.0</td>\n",
       "      <td>99.0</td>\n",
       "      <td>17.321499</td>\n",
       "      <td>11.0</td>\n",
       "      <td>17.663996</td>\n",
       "      <td>1.755376</td>\n",
       "      <td>3.233232</td>\n",
       "    </tr>\n",
       "    <tr>\n",
       "      <th>6</th>\n",
       "      <td>order_day_of_week</td>\n",
       "      <td>0.0</td>\n",
       "      <td>6.0</td>\n",
       "      <td>6.0</td>\n",
       "      <td>2.742486</td>\n",
       "      <td>3.0</td>\n",
       "      <td>2.094194</td>\n",
       "      <td>0.180296</td>\n",
       "      <td>-1.335542</td>\n",
       "    </tr>\n",
       "    <tr>\n",
       "      <th>7</th>\n",
       "      <td>order_hour_of_day</td>\n",
       "      <td>0.0</td>\n",
       "      <td>23.0</td>\n",
       "      <td>23.0</td>\n",
       "      <td>13.423948</td>\n",
       "      <td>13.0</td>\n",
       "      <td>4.252317</td>\n",
       "      <td>-0.043954</td>\n",
       "      <td>-0.020598</td>\n",
       "    </tr>\n",
       "    <tr>\n",
       "      <th>8</th>\n",
       "      <td>days_since_prior_order</td>\n",
       "      <td>0.0</td>\n",
       "      <td>30.0</td>\n",
       "      <td>31.0</td>\n",
       "      <td>10.535240</td>\n",
       "      <td>7.0</td>\n",
       "      <td>9.092048</td>\n",
       "      <td>0.990787</td>\n",
       "      <td>-0.089505</td>\n",
       "    </tr>\n",
       "    <tr>\n",
       "      <th>9</th>\n",
       "      <td>aisle_id</td>\n",
       "      <td>1.0</td>\n",
       "      <td>134.0</td>\n",
       "      <td>133.0</td>\n",
       "      <td>71.202297</td>\n",
       "      <td>83.0</td>\n",
       "      <td>38.186122</td>\n",
       "      <td>-0.166665</td>\n",
       "      <td>-1.324655</td>\n",
       "    </tr>\n",
       "    <tr>\n",
       "      <th>10</th>\n",
       "      <td>department_id</td>\n",
       "      <td>1.0</td>\n",
       "      <td>21.0</td>\n",
       "      <td>20.0</td>\n",
       "      <td>9.919346</td>\n",
       "      <td>9.0</td>\n",
       "      <td>6.283951</td>\n",
       "      <td>0.152435</td>\n",
       "      <td>-1.560295</td>\n",
       "    </tr>\n",
       "  </tbody>\n",
       "</table>\n",
       "</div>"
      ],
      "text/plain": [
       "                attributes  min       max     range           mean    median  \\\n",
       "0                 order_id  1.0  101299.0  101298.0   50663.107511   50642.0   \n",
       "1               product_id  1.0   49688.0   49687.0   25576.224010   25266.0   \n",
       "2        add_to_cart_order  1.0     127.0     126.0       8.356323       6.0   \n",
       "3                reordered  0.0       1.0       1.0       0.590309       1.0   \n",
       "4                  user_id  4.0  206208.0  206204.0  102979.114973  102716.0   \n",
       "5             order_number  1.0     100.0      99.0      17.321499      11.0   \n",
       "6        order_day_of_week  0.0       6.0       6.0       2.742486       3.0   \n",
       "7        order_hour_of_day  0.0      23.0      23.0      13.423948      13.0   \n",
       "8   days_since_prior_order  0.0      30.0      31.0      10.535240       7.0   \n",
       "9                 aisle_id  1.0     134.0     133.0      71.202297      83.0   \n",
       "10           department_id  1.0      21.0      20.0       9.919346       9.0   \n",
       "\n",
       "             std      skew  kurtosis  \n",
       "0   29287.149555  0.001838 -1.203221  \n",
       "1   14098.905624 -0.021020 -1.141383  \n",
       "2       7.163926  1.928983  7.325248  \n",
       "3       0.491777 -0.367277 -1.865111  \n",
       "4   59435.539579  0.001047 -1.198345  \n",
       "5      17.663996  1.755376  3.233232  \n",
       "6       2.094194  0.180296 -1.335542  \n",
       "7       4.252317 -0.043954 -0.020598  \n",
       "8       9.092048  0.990787 -0.089505  \n",
       "9      38.186122 -0.166665 -1.324655  \n",
       "10      6.283951  0.152435 -1.560295  "
      ]
     },
     "execution_count": 100,
     "metadata": {},
     "output_type": "execute_result"
    }
   ],
   "source": [
    "min_df = pd.DataFrame( num_data.apply(lambda x: min(x), axis=0) ).T\n",
    "min_df['days_since_prior_order'] = min( num_data[ num_data['days_since_prior_order'] != -1 ]['days_since_prior_order'] )\n",
    "\n",
    "max_df = pd.DataFrame( num_data.apply(lambda x : max(x), axis=0) ).T\n",
    "\n",
    "range_df = pd.DataFrame( num_data.apply(lambda x : max(x) - min(x), axis=0 )).T\n",
    "\n",
    "mean_df = pd.DataFrame( num_data.apply(lambda x : np.mean(x), axis=0 )).T\n",
    "\n",
    "median_df = pd.DataFrame( num_data.apply(lambda x : np.median(x), axis=0 )).T\n",
    "\n",
    "std_df = pd.DataFrame( num_data.apply(lambda x : np.std(x), axis=0 )).T\n",
    "\n",
    "skew_df = pd.DataFrame( num_data.apply(lambda x : x.skew(), axis=0 )).T\n",
    "\n",
    "kurtosis_df = pd.DataFrame( num_data.apply(lambda x : x.kurtosis(), axis=0 )).T\n",
    "\n",
    "\n",
    "attributes_table = pd.concat([min_df, max_df, range_df, mean_df, median_df, std_df, skew_df, kurtosis_df]).T.reset_index()\n",
    "attributes_table.columns = ['attributes', 'min', 'max', 'range', 'mean', 'median', 'std', 'skew', 'kurtosis']\n",
    "attributes_table"
   ]
  },
  {
   "cell_type": "code",
   "execution_count": 125,
   "metadata": {
    "ExecuteTime": {
     "end_time": "2021-03-14T22:03:14.017543Z",
     "start_time": "2021-03-14T22:03:13.612632Z"
    },
    "hidden": true
   },
   "outputs": [
    {
     "data": {
      "text/html": [
       "<div>\n",
       "<style scoped>\n",
       "    .dataframe tbody tr th:only-of-type {\n",
       "        vertical-align: middle;\n",
       "    }\n",
       "\n",
       "    .dataframe tbody tr th {\n",
       "        vertical-align: top;\n",
       "    }\n",
       "\n",
       "    .dataframe thead th {\n",
       "        text-align: right;\n",
       "    }\n",
       "</style>\n",
       "<table border=\"1\" class=\"dataframe\">\n",
       "  <thead>\n",
       "    <tr style=\"text-align: right;\">\n",
       "      <th></th>\n",
       "      <th>attributes</th>\n",
       "      <th>mode</th>\n",
       "      <th>frequency</th>\n",
       "    </tr>\n",
       "  </thead>\n",
       "  <tbody>\n",
       "    <tr>\n",
       "      <th>0</th>\n",
       "      <td>order_id</td>\n",
       "      <td>61355</td>\n",
       "      <td>127</td>\n",
       "    </tr>\n",
       "    <tr>\n",
       "      <th>1</th>\n",
       "      <td>product_id</td>\n",
       "      <td>24852</td>\n",
       "      <td>14681</td>\n",
       "    </tr>\n",
       "    <tr>\n",
       "      <th>2</th>\n",
       "      <td>add_to_cart_order</td>\n",
       "      <td>1</td>\n",
       "      <td>99106</td>\n",
       "    </tr>\n",
       "    <tr>\n",
       "      <th>3</th>\n",
       "      <td>reordered</td>\n",
       "      <td>1</td>\n",
       "      <td>590309</td>\n",
       "    </tr>\n",
       "    <tr>\n",
       "      <th>4</th>\n",
       "      <td>user_id</td>\n",
       "      <td>169550</td>\n",
       "      <td>260</td>\n",
       "    </tr>\n",
       "    <tr>\n",
       "      <th>5</th>\n",
       "      <td>order_number</td>\n",
       "      <td>1</td>\n",
       "      <td>61293</td>\n",
       "    </tr>\n",
       "    <tr>\n",
       "      <th>6</th>\n",
       "      <td>order_day_of_week</td>\n",
       "      <td>0</td>\n",
       "      <td>191985</td>\n",
       "    </tr>\n",
       "    <tr>\n",
       "      <th>7</th>\n",
       "      <td>order_hour_of_day</td>\n",
       "      <td>10</td>\n",
       "      <td>83554</td>\n",
       "    </tr>\n",
       "    <tr>\n",
       "      <th>8</th>\n",
       "      <td>days_since_prior_order</td>\n",
       "      <td>7</td>\n",
       "      <td>105817</td>\n",
       "    </tr>\n",
       "    <tr>\n",
       "      <th>9</th>\n",
       "      <td>aisle_id</td>\n",
       "      <td>24</td>\n",
       "      <td>112304</td>\n",
       "    </tr>\n",
       "    <tr>\n",
       "      <th>10</th>\n",
       "      <td>department_id</td>\n",
       "      <td>4</td>\n",
       "      <td>292459</td>\n",
       "    </tr>\n",
       "  </tbody>\n",
       "</table>\n",
       "</div>"
      ],
      "text/plain": [
       "                attributes    mode  frequency\n",
       "0                 order_id   61355        127\n",
       "1               product_id   24852      14681\n",
       "2        add_to_cart_order       1      99106\n",
       "3                reordered       1     590309\n",
       "4                  user_id  169550        260\n",
       "5             order_number       1      61293\n",
       "6        order_day_of_week       0     191985\n",
       "7        order_hour_of_day      10      83554\n",
       "8   days_since_prior_order       7     105817\n",
       "9                 aisle_id      24     112304\n",
       "10           department_id       4     292459"
      ]
     },
     "execution_count": 125,
     "metadata": {},
     "output_type": "execute_result"
    }
   ],
   "source": [
    "# Obtaining the mode\n",
    "mode_df = pd.DataFrame( num_data.apply(lambda x: ss.mode(x)) ).T.reset_index()\n",
    "mode_df.columns = ['attributes', 'mode', 'frequency']\n",
    "mode_df['mode'] = mode_df['mode'].apply(lambda x: x[0])\n",
    "mode_df['frequency'] = mode_df['frequency'].apply(lambda x: x[0])\n",
    "\n",
    "mode_df "
   ]
  },
  {
   "cell_type": "code",
   "execution_count": 145,
   "metadata": {
    "ExecuteTime": {
     "end_time": "2021-03-14T23:07:24.707347Z",
     "start_time": "2021-03-14T23:07:24.491633Z"
    },
    "hidden": true
   },
   "outputs": [
    {
     "data": {
      "text/html": [
       "<div>\n",
       "<style scoped>\n",
       "    .dataframe tbody tr th:only-of-type {\n",
       "        vertical-align: middle;\n",
       "    }\n",
       "\n",
       "    .dataframe tbody tr th {\n",
       "        vertical-align: top;\n",
       "    }\n",
       "\n",
       "    .dataframe thead th {\n",
       "        text-align: right;\n",
       "    }\n",
       "</style>\n",
       "<table border=\"1\" class=\"dataframe\">\n",
       "  <thead>\n",
       "    <tr style=\"text-align: right;\">\n",
       "      <th></th>\n",
       "      <th>product_name</th>\n",
       "      <th>quantity</th>\n",
       "    </tr>\n",
       "  </thead>\n",
       "  <tbody>\n",
       "    <tr>\n",
       "      <th>0</th>\n",
       "      <td>Banana</td>\n",
       "      <td>14681</td>\n",
       "    </tr>\n",
       "    <tr>\n",
       "      <th>1</th>\n",
       "      <td>Bag of Organic Bananas</td>\n",
       "      <td>11830</td>\n",
       "    </tr>\n",
       "    <tr>\n",
       "      <th>2</th>\n",
       "      <td>Organic Strawberries</td>\n",
       "      <td>8169</td>\n",
       "    </tr>\n",
       "    <tr>\n",
       "      <th>3</th>\n",
       "      <td>Organic Baby Spinach</td>\n",
       "      <td>7468</td>\n",
       "    </tr>\n",
       "    <tr>\n",
       "      <th>4</th>\n",
       "      <td>Organic Hass Avocado</td>\n",
       "      <td>6481</td>\n",
       "    </tr>\n",
       "    <tr>\n",
       "      <th>5</th>\n",
       "      <td>Organic Avocado</td>\n",
       "      <td>5381</td>\n",
       "    </tr>\n",
       "    <tr>\n",
       "      <th>6</th>\n",
       "      <td>Large Lemon</td>\n",
       "      <td>4752</td>\n",
       "    </tr>\n",
       "  </tbody>\n",
       "</table>\n",
       "</div>"
      ],
      "text/plain": [
       "             product_name  quantity\n",
       "0                  Banana     14681\n",
       "1  Bag of Organic Bananas     11830\n",
       "2    Organic Strawberries      8169\n",
       "3    Organic Baby Spinach      7468\n",
       "4    Organic Hass Avocado      6481\n",
       "5         Organic Avocado      5381\n",
       "6             Large Lemon      4752"
      ]
     },
     "execution_count": 145,
     "metadata": {},
     "output_type": "execute_result"
    }
   ],
   "source": [
    "cat_data['product_name'].value_counts().sort_values(ascending=False).reset_index().rename(columns={'index':'product_name', 'product_name':'quantity'}).head(7)"
   ]
  },
  {
   "cell_type": "code",
   "execution_count": 146,
   "metadata": {
    "ExecuteTime": {
     "end_time": "2021-03-14T23:08:04.677748Z",
     "start_time": "2021-03-14T23:08:04.544056Z"
    },
    "hidden": true
   },
   "outputs": [
    {
     "data": {
      "text/html": [
       "<div>\n",
       "<style scoped>\n",
       "    .dataframe tbody tr th:only-of-type {\n",
       "        vertical-align: middle;\n",
       "    }\n",
       "\n",
       "    .dataframe tbody tr th {\n",
       "        vertical-align: top;\n",
       "    }\n",
       "\n",
       "    .dataframe thead th {\n",
       "        text-align: right;\n",
       "    }\n",
       "</style>\n",
       "<table border=\"1\" class=\"dataframe\">\n",
       "  <thead>\n",
       "    <tr style=\"text-align: right;\">\n",
       "      <th></th>\n",
       "      <th>aisle</th>\n",
       "      <th>quantity</th>\n",
       "    </tr>\n",
       "  </thead>\n",
       "  <tbody>\n",
       "    <tr>\n",
       "      <th>0</th>\n",
       "      <td>fresh fruits</td>\n",
       "      <td>112304</td>\n",
       "    </tr>\n",
       "    <tr>\n",
       "      <th>1</th>\n",
       "      <td>fresh vegetables</td>\n",
       "      <td>105215</td>\n",
       "    </tr>\n",
       "    <tr>\n",
       "      <th>2</th>\n",
       "      <td>packaged vegetables fruits</td>\n",
       "      <td>54900</td>\n",
       "    </tr>\n",
       "    <tr>\n",
       "      <th>3</th>\n",
       "      <td>yogurt</td>\n",
       "      <td>44377</td>\n",
       "    </tr>\n",
       "    <tr>\n",
       "      <th>4</th>\n",
       "      <td>packaged cheese</td>\n",
       "      <td>30207</td>\n",
       "    </tr>\n",
       "    <tr>\n",
       "      <th>5</th>\n",
       "      <td>milk</td>\n",
       "      <td>27285</td>\n",
       "    </tr>\n",
       "    <tr>\n",
       "      <th>6</th>\n",
       "      <td>water seltzer sparkling water</td>\n",
       "      <td>25692</td>\n",
       "    </tr>\n",
       "  </tbody>\n",
       "</table>\n",
       "</div>"
      ],
      "text/plain": [
       "                           aisle  quantity\n",
       "0                   fresh fruits    112304\n",
       "1               fresh vegetables    105215\n",
       "2     packaged vegetables fruits     54900\n",
       "3                         yogurt     44377\n",
       "4                packaged cheese     30207\n",
       "5                           milk     27285\n",
       "6  water seltzer sparkling water     25692"
      ]
     },
     "execution_count": 146,
     "metadata": {},
     "output_type": "execute_result"
    }
   ],
   "source": [
    "cat_data['aisle'].value_counts().sort_values(ascending=False).reset_index().rename(columns={'index':'aisle', 'aisle':'quantity'}).head(7)"
   ]
  },
  {
   "cell_type": "code",
   "execution_count": 147,
   "metadata": {
    "ExecuteTime": {
     "end_time": "2021-03-14T23:08:47.901317Z",
     "start_time": "2021-03-14T23:08:47.733012Z"
    },
    "hidden": true
   },
   "outputs": [
    {
     "data": {
      "text/html": [
       "<div>\n",
       "<style scoped>\n",
       "    .dataframe tbody tr th:only-of-type {\n",
       "        vertical-align: middle;\n",
       "    }\n",
       "\n",
       "    .dataframe tbody tr th {\n",
       "        vertical-align: top;\n",
       "    }\n",
       "\n",
       "    .dataframe thead th {\n",
       "        text-align: right;\n",
       "    }\n",
       "</style>\n",
       "<table border=\"1\" class=\"dataframe\">\n",
       "  <thead>\n",
       "    <tr style=\"text-align: right;\">\n",
       "      <th></th>\n",
       "      <th>department</th>\n",
       "      <th>quantity</th>\n",
       "    </tr>\n",
       "  </thead>\n",
       "  <tbody>\n",
       "    <tr>\n",
       "      <th>0</th>\n",
       "      <td>produce</td>\n",
       "      <td>292459</td>\n",
       "    </tr>\n",
       "    <tr>\n",
       "      <th>1</th>\n",
       "      <td>dairy eggs</td>\n",
       "      <td>166609</td>\n",
       "    </tr>\n",
       "    <tr>\n",
       "      <th>2</th>\n",
       "      <td>snacks</td>\n",
       "      <td>89212</td>\n",
       "    </tr>\n",
       "    <tr>\n",
       "      <th>3</th>\n",
       "      <td>beverages</td>\n",
       "      <td>83040</td>\n",
       "    </tr>\n",
       "    <tr>\n",
       "      <th>4</th>\n",
       "      <td>frozen</td>\n",
       "      <td>69089</td>\n",
       "    </tr>\n",
       "    <tr>\n",
       "      <th>5</th>\n",
       "      <td>pantry</td>\n",
       "      <td>57351</td>\n",
       "    </tr>\n",
       "    <tr>\n",
       "      <th>6</th>\n",
       "      <td>bakery</td>\n",
       "      <td>36300</td>\n",
       "    </tr>\n",
       "  </tbody>\n",
       "</table>\n",
       "</div>"
      ],
      "text/plain": [
       "   department  quantity\n",
       "0     produce    292459\n",
       "1  dairy eggs    166609\n",
       "2      snacks     89212\n",
       "3   beverages     83040\n",
       "4      frozen     69089\n",
       "5      pantry     57351\n",
       "6      bakery     36300"
      ]
     },
     "execution_count": 147,
     "metadata": {},
     "output_type": "execute_result"
    }
   ],
   "source": [
    "cat_data['department'].value_counts().sort_values(ascending=False).reset_index().rename(columns={'index':'department','department':'quantity'}).head(7)"
   ]
  },
  {
   "cell_type": "markdown",
   "metadata": {},
   "source": [
    "# 3.0. Feature Engineering"
   ]
  },
  {
   "cell_type": "code",
   "execution_count": 218,
   "metadata": {
    "ExecuteTime": {
     "end_time": "2021-03-15T01:56:51.049931Z",
     "start_time": "2021-03-15T01:56:50.980040Z"
    }
   },
   "outputs": [],
   "source": [
    "df3 = df2.copy()"
   ]
  },
  {
   "cell_type": "markdown",
   "metadata": {},
   "source": [
    "## 3.1. Mind Map"
   ]
  },
  {
   "cell_type": "code",
   "execution_count": null,
   "metadata": {},
   "outputs": [],
   "source": []
  },
  {
   "cell_type": "markdown",
   "metadata": {
    "ExecuteTime": {
     "end_time": "2021-03-09T21:28:52.612139Z",
     "start_time": "2021-03-09T21:28:52.604893Z"
    }
   },
   "source": [
    "## 3.2. Hypothesis creation"
   ]
  },
  {
   "cell_type": "code",
   "execution_count": null,
   "metadata": {},
   "outputs": [],
   "source": []
  },
  {
   "cell_type": "markdown",
   "metadata": {},
   "source": [
    "## 3.3. Final hypothesis list"
   ]
  },
  {
   "cell_type": "code",
   "execution_count": null,
   "metadata": {},
   "outputs": [],
   "source": []
  },
  {
   "cell_type": "markdown",
   "metadata": {},
   "source": [
    "## 3.4. Deriving new variables"
   ]
  },
  {
   "cell_type": "markdown",
   "metadata": {},
   "source": [
    "We decided to use RFM (Recency, Frequency, Monetary) Analysis, so it's necessary to derive the 3 variables described before."
   ]
  },
  {
   "cell_type": "markdown",
   "metadata": {},
   "source": [
    "### RECENCY"
   ]
  },
  {
   "cell_type": "markdown",
   "metadata": {},
   "source": [
    "The data doesn't include the date of the order, so we are going to estimate the recency by the mean of the previous recencies."
   ]
  },
  {
   "cell_type": "code",
   "execution_count": 219,
   "metadata": {
    "ExecuteTime": {
     "end_time": "2021-03-15T01:56:53.239109Z",
     "start_time": "2021-03-15T01:56:53.017125Z"
    }
   },
   "outputs": [
    {
     "data": {
      "text/html": [
       "<div>\n",
       "<style scoped>\n",
       "    .dataframe tbody tr th:only-of-type {\n",
       "        vertical-align: middle;\n",
       "    }\n",
       "\n",
       "    .dataframe tbody tr th {\n",
       "        vertical-align: top;\n",
       "    }\n",
       "\n",
       "    .dataframe thead th {\n",
       "        text-align: right;\n",
       "    }\n",
       "</style>\n",
       "<table border=\"1\" class=\"dataframe\">\n",
       "  <thead>\n",
       "    <tr style=\"text-align: right;\">\n",
       "      <th></th>\n",
       "      <th>user_id</th>\n",
       "      <th>recency_average</th>\n",
       "    </tr>\n",
       "  </thead>\n",
       "  <tbody>\n",
       "    <tr>\n",
       "      <th>0</th>\n",
       "      <td>4</td>\n",
       "      <td>15.000000</td>\n",
       "    </tr>\n",
       "    <tr>\n",
       "      <th>1</th>\n",
       "      <td>7</td>\n",
       "      <td>28.000000</td>\n",
       "    </tr>\n",
       "    <tr>\n",
       "      <th>2</th>\n",
       "      <td>10</td>\n",
       "      <td>22.000000</td>\n",
       "    </tr>\n",
       "    <tr>\n",
       "      <th>3</th>\n",
       "      <td>13</td>\n",
       "      <td>9.000000</td>\n",
       "    </tr>\n",
       "    <tr>\n",
       "      <th>4</th>\n",
       "      <td>19</td>\n",
       "      <td>8.000000</td>\n",
       "    </tr>\n",
       "    <tr>\n",
       "      <th>...</th>\n",
       "      <td>...</td>\n",
       "      <td>...</td>\n",
       "    </tr>\n",
       "    <tr>\n",
       "      <th>67806</th>\n",
       "      <td>206202</td>\n",
       "      <td>18.000000</td>\n",
       "    </tr>\n",
       "    <tr>\n",
       "      <th>67807</th>\n",
       "      <td>206204</td>\n",
       "      <td>9.000000</td>\n",
       "    </tr>\n",
       "    <tr>\n",
       "      <th>67808</th>\n",
       "      <td>206206</td>\n",
       "      <td>1.666667</td>\n",
       "    </tr>\n",
       "    <tr>\n",
       "      <th>67809</th>\n",
       "      <td>206207</td>\n",
       "      <td>19.000000</td>\n",
       "    </tr>\n",
       "    <tr>\n",
       "      <th>67810</th>\n",
       "      <td>206208</td>\n",
       "      <td>6.000000</td>\n",
       "    </tr>\n",
       "  </tbody>\n",
       "</table>\n",
       "<p>67811 rows × 2 columns</p>\n",
       "</div>"
      ],
      "text/plain": [
       "       user_id  recency_average\n",
       "0            4        15.000000\n",
       "1            7        28.000000\n",
       "2           10        22.000000\n",
       "3           13         9.000000\n",
       "4           19         8.000000\n",
       "...        ...              ...\n",
       "67806   206202        18.000000\n",
       "67807   206204         9.000000\n",
       "67808   206206         1.666667\n",
       "67809   206207        19.000000\n",
       "67810   206208         6.000000\n",
       "\n",
       "[67811 rows x 2 columns]"
      ]
     },
     "execution_count": 219,
     "metadata": {},
     "output_type": "execute_result"
    }
   ],
   "source": [
    "# a dataframe with order_id as primary key\n",
    "orders_df = df3.groupby('order_id').mean()\n",
    "orders_df.user_id = orders_df.user_id.astype(int)\n",
    "\n",
    "recency_df = orders_df[['user_id','days_since_prior_order']].groupby('user_id').mean().reset_index().rename(columns={'days_since_prior_order':'recency_average'})\n",
    "recency_df"
   ]
  },
  {
   "cell_type": "markdown",
   "metadata": {},
   "source": [
    "### FREQUENCY"
   ]
  },
  {
   "cell_type": "code",
   "execution_count": 220,
   "metadata": {
    "ExecuteTime": {
     "end_time": "2021-03-15T01:56:53.937311Z",
     "start_time": "2021-03-15T01:56:53.717399Z"
    }
   },
   "outputs": [
    {
     "data": {
      "text/html": [
       "<div>\n",
       "<style scoped>\n",
       "    .dataframe tbody tr th:only-of-type {\n",
       "        vertical-align: middle;\n",
       "    }\n",
       "\n",
       "    .dataframe tbody tr th {\n",
       "        vertical-align: top;\n",
       "    }\n",
       "\n",
       "    .dataframe thead th {\n",
       "        text-align: right;\n",
       "    }\n",
       "</style>\n",
       "<table border=\"1\" class=\"dataframe\">\n",
       "  <thead>\n",
       "    <tr style=\"text-align: right;\">\n",
       "      <th></th>\n",
       "      <th>user_id</th>\n",
       "      <th>frequency</th>\n",
       "    </tr>\n",
       "  </thead>\n",
       "  <tbody>\n",
       "    <tr>\n",
       "      <th>0</th>\n",
       "      <td>4</td>\n",
       "      <td>1</td>\n",
       "    </tr>\n",
       "    <tr>\n",
       "      <th>1</th>\n",
       "      <td>7</td>\n",
       "      <td>1</td>\n",
       "    </tr>\n",
       "    <tr>\n",
       "      <th>2</th>\n",
       "      <td>10</td>\n",
       "      <td>2</td>\n",
       "    </tr>\n",
       "    <tr>\n",
       "      <th>3</th>\n",
       "      <td>13</td>\n",
       "      <td>1</td>\n",
       "    </tr>\n",
       "    <tr>\n",
       "      <th>4</th>\n",
       "      <td>19</td>\n",
       "      <td>1</td>\n",
       "    </tr>\n",
       "    <tr>\n",
       "      <th>...</th>\n",
       "      <td>...</td>\n",
       "      <td>...</td>\n",
       "    </tr>\n",
       "    <tr>\n",
       "      <th>67806</th>\n",
       "      <td>206202</td>\n",
       "      <td>1</td>\n",
       "    </tr>\n",
       "    <tr>\n",
       "      <th>67807</th>\n",
       "      <td>206204</td>\n",
       "      <td>1</td>\n",
       "    </tr>\n",
       "    <tr>\n",
       "      <th>67808</th>\n",
       "      <td>206206</td>\n",
       "      <td>3</td>\n",
       "    </tr>\n",
       "    <tr>\n",
       "      <th>67809</th>\n",
       "      <td>206207</td>\n",
       "      <td>2</td>\n",
       "    </tr>\n",
       "    <tr>\n",
       "      <th>67810</th>\n",
       "      <td>206208</td>\n",
       "      <td>1</td>\n",
       "    </tr>\n",
       "  </tbody>\n",
       "</table>\n",
       "<p>67811 rows × 2 columns</p>\n",
       "</div>"
      ],
      "text/plain": [
       "       user_id  frequency\n",
       "0            4          1\n",
       "1            7          1\n",
       "2           10          2\n",
       "3           13          1\n",
       "4           19          1\n",
       "...        ...        ...\n",
       "67806   206202          1\n",
       "67807   206204          1\n",
       "67808   206206          3\n",
       "67809   206207          2\n",
       "67810   206208          1\n",
       "\n",
       "[67811 rows x 2 columns]"
      ]
     },
     "execution_count": 220,
     "metadata": {},
     "output_type": "execute_result"
    }
   ],
   "source": [
    "# a dataframe with order_id as primary key\n",
    "orders_df = df3.groupby('order_id').mean()\n",
    "orders_df.user_id = orders_df.user_id.astype(int)\n",
    "\n",
    "frequency_df = orders_df[['user_id','order_number']].groupby('user_id').count().reset_index().rename(columns={'order_number':'frequency'})\n",
    "frequency_df "
   ]
  },
  {
   "cell_type": "markdown",
   "metadata": {},
   "source": [
    "### MONETARY"
   ]
  },
  {
   "cell_type": "markdown",
   "metadata": {},
   "source": [
    "The data doesn't include the price of each product, so to calculate the monetary measure we are going to count the amount of products bought by each user."
   ]
  },
  {
   "cell_type": "code",
   "execution_count": 221,
   "metadata": {
    "ExecuteTime": {
     "end_time": "2021-03-15T01:56:54.363114Z",
     "start_time": "2021-03-15T01:56:54.240399Z"
    }
   },
   "outputs": [
    {
     "data": {
      "text/html": [
       "<div>\n",
       "<style scoped>\n",
       "    .dataframe tbody tr th:only-of-type {\n",
       "        vertical-align: middle;\n",
       "    }\n",
       "\n",
       "    .dataframe tbody tr th {\n",
       "        vertical-align: top;\n",
       "    }\n",
       "\n",
       "    .dataframe thead th {\n",
       "        text-align: right;\n",
       "    }\n",
       "</style>\n",
       "<table border=\"1\" class=\"dataframe\">\n",
       "  <thead>\n",
       "    <tr style=\"text-align: right;\">\n",
       "      <th></th>\n",
       "      <th>user_id</th>\n",
       "      <th>quant_product</th>\n",
       "    </tr>\n",
       "  </thead>\n",
       "  <tbody>\n",
       "    <tr>\n",
       "      <th>0</th>\n",
       "      <td>4</td>\n",
       "      <td>2</td>\n",
       "    </tr>\n",
       "    <tr>\n",
       "      <th>1</th>\n",
       "      <td>7</td>\n",
       "      <td>11</td>\n",
       "    </tr>\n",
       "    <tr>\n",
       "      <th>2</th>\n",
       "      <td>10</td>\n",
       "      <td>76</td>\n",
       "    </tr>\n",
       "    <tr>\n",
       "      <th>3</th>\n",
       "      <td>13</td>\n",
       "      <td>5</td>\n",
       "    </tr>\n",
       "    <tr>\n",
       "      <th>4</th>\n",
       "      <td>19</td>\n",
       "      <td>21</td>\n",
       "    </tr>\n",
       "    <tr>\n",
       "      <th>...</th>\n",
       "      <td>...</td>\n",
       "      <td>...</td>\n",
       "    </tr>\n",
       "    <tr>\n",
       "      <th>67806</th>\n",
       "      <td>206202</td>\n",
       "      <td>3</td>\n",
       "    </tr>\n",
       "    <tr>\n",
       "      <th>67807</th>\n",
       "      <td>206204</td>\n",
       "      <td>10</td>\n",
       "    </tr>\n",
       "    <tr>\n",
       "      <th>67808</th>\n",
       "      <td>206206</td>\n",
       "      <td>11</td>\n",
       "    </tr>\n",
       "    <tr>\n",
       "      <th>67809</th>\n",
       "      <td>206207</td>\n",
       "      <td>21</td>\n",
       "    </tr>\n",
       "    <tr>\n",
       "      <th>67810</th>\n",
       "      <td>206208</td>\n",
       "      <td>16</td>\n",
       "    </tr>\n",
       "  </tbody>\n",
       "</table>\n",
       "<p>67811 rows × 2 columns</p>\n",
       "</div>"
      ],
      "text/plain": [
       "       user_id  quant_product\n",
       "0            4              2\n",
       "1            7             11\n",
       "2           10             76\n",
       "3           13              5\n",
       "4           19             21\n",
       "...        ...            ...\n",
       "67806   206202              3\n",
       "67807   206204             10\n",
       "67808   206206             11\n",
       "67809   206207             21\n",
       "67810   206208             16\n",
       "\n",
       "[67811 rows x 2 columns]"
      ]
     },
     "execution_count": 221,
     "metadata": {},
     "output_type": "execute_result"
    }
   ],
   "source": [
    "# Amount of products per order\n",
    "quant_prod_per_order = df3[['order_id','product_id']].groupby('order_id').count().reset_index().rename(columns={'product_id':'quant_product'})\n",
    "\n",
    "# user related with each order\n",
    "orders_df = df3[['order_id','user_id']].groupby('order_id').mean().reset_index()\n",
    "orders_df.user_id = orders_df.user_id.astype(int)\n",
    "\n",
    "# join the two previous tables\n",
    "merged_df = pd.merge(quant_prod_per_order, orders_df, how='inner', on='order_id')\n",
    "\n",
    "# get the amount of products bought by each user\n",
    "monetary_df = merged_df[['user_id','quant_product']].groupby('user_id').sum().reset_index()\n",
    "monetary_df"
   ]
  },
  {
   "cell_type": "markdown",
   "metadata": {},
   "source": [
    "### JOINING THE 3 FEATURES DERIVED ABOVE"
   ]
  },
  {
   "cell_type": "code",
   "execution_count": 230,
   "metadata": {
    "ExecuteTime": {
     "end_time": "2021-03-15T02:05:08.468864Z",
     "start_time": "2021-03-15T02:05:08.405582Z"
    }
   },
   "outputs": [
    {
     "data": {
      "text/html": [
       "<div>\n",
       "<style scoped>\n",
       "    .dataframe tbody tr th:only-of-type {\n",
       "        vertical-align: middle;\n",
       "    }\n",
       "\n",
       "    .dataframe tbody tr th {\n",
       "        vertical-align: top;\n",
       "    }\n",
       "\n",
       "    .dataframe thead th {\n",
       "        text-align: right;\n",
       "    }\n",
       "</style>\n",
       "<table border=\"1\" class=\"dataframe\">\n",
       "  <thead>\n",
       "    <tr style=\"text-align: right;\">\n",
       "      <th></th>\n",
       "      <th>user_id</th>\n",
       "      <th>recency</th>\n",
       "      <th>frequency</th>\n",
       "      <th>monetary</th>\n",
       "    </tr>\n",
       "  </thead>\n",
       "  <tbody>\n",
       "    <tr>\n",
       "      <th>0</th>\n",
       "      <td>4</td>\n",
       "      <td>15.000000</td>\n",
       "      <td>1</td>\n",
       "      <td>2</td>\n",
       "    </tr>\n",
       "    <tr>\n",
       "      <th>1</th>\n",
       "      <td>7</td>\n",
       "      <td>28.000000</td>\n",
       "      <td>1</td>\n",
       "      <td>11</td>\n",
       "    </tr>\n",
       "    <tr>\n",
       "      <th>2</th>\n",
       "      <td>10</td>\n",
       "      <td>22.000000</td>\n",
       "      <td>2</td>\n",
       "      <td>76</td>\n",
       "    </tr>\n",
       "    <tr>\n",
       "      <th>3</th>\n",
       "      <td>13</td>\n",
       "      <td>9.000000</td>\n",
       "      <td>1</td>\n",
       "      <td>5</td>\n",
       "    </tr>\n",
       "    <tr>\n",
       "      <th>4</th>\n",
       "      <td>19</td>\n",
       "      <td>8.000000</td>\n",
       "      <td>1</td>\n",
       "      <td>21</td>\n",
       "    </tr>\n",
       "    <tr>\n",
       "      <th>...</th>\n",
       "      <td>...</td>\n",
       "      <td>...</td>\n",
       "      <td>...</td>\n",
       "      <td>...</td>\n",
       "    </tr>\n",
       "    <tr>\n",
       "      <th>67806</th>\n",
       "      <td>206202</td>\n",
       "      <td>18.000000</td>\n",
       "      <td>1</td>\n",
       "      <td>3</td>\n",
       "    </tr>\n",
       "    <tr>\n",
       "      <th>67807</th>\n",
       "      <td>206204</td>\n",
       "      <td>9.000000</td>\n",
       "      <td>1</td>\n",
       "      <td>10</td>\n",
       "    </tr>\n",
       "    <tr>\n",
       "      <th>67808</th>\n",
       "      <td>206206</td>\n",
       "      <td>1.666667</td>\n",
       "      <td>3</td>\n",
       "      <td>11</td>\n",
       "    </tr>\n",
       "    <tr>\n",
       "      <th>67809</th>\n",
       "      <td>206207</td>\n",
       "      <td>19.000000</td>\n",
       "      <td>2</td>\n",
       "      <td>21</td>\n",
       "    </tr>\n",
       "    <tr>\n",
       "      <th>67810</th>\n",
       "      <td>206208</td>\n",
       "      <td>6.000000</td>\n",
       "      <td>1</td>\n",
       "      <td>16</td>\n",
       "    </tr>\n",
       "  </tbody>\n",
       "</table>\n",
       "<p>67811 rows × 4 columns</p>\n",
       "</div>"
      ],
      "text/plain": [
       "       user_id    recency  frequency  monetary\n",
       "0            4  15.000000          1         2\n",
       "1            7  28.000000          1        11\n",
       "2           10  22.000000          2        76\n",
       "3           13   9.000000          1         5\n",
       "4           19   8.000000          1        21\n",
       "...        ...        ...        ...       ...\n",
       "67806   206202  18.000000          1         3\n",
       "67807   206204   9.000000          1        10\n",
       "67808   206206   1.666667          3        11\n",
       "67809   206207  19.000000          2        21\n",
       "67810   206208   6.000000          1        16\n",
       "\n",
       "[67811 rows x 4 columns]"
      ]
     },
     "execution_count": 230,
     "metadata": {},
     "output_type": "execute_result"
    }
   ],
   "source": [
    "df_rfm = pd.merge(recency_df, frequency_df, how='inner', on='user_id')\n",
    "df_rfm = pd.merge(df_rfm, monetary_df, how='inner', on='user_id')\n",
    "df_rfm = df_rfm.rename(columns={'recency_average':'recency', 'quant_product':'monetary'})\n",
    "df_rfm"
   ]
  },
  {
   "cell_type": "markdown",
   "metadata": {},
   "source": [
    "# 4.0. Filtering variables"
   ]
  },
  {
   "cell_type": "code",
   "execution_count": 231,
   "metadata": {
    "ExecuteTime": {
     "end_time": "2021-03-15T02:05:12.142620Z",
     "start_time": "2021-03-15T02:05:12.137115Z"
    }
   },
   "outputs": [],
   "source": [
    "df4 = df_rfm.copy()"
   ]
  },
  {
   "cell_type": "markdown",
   "metadata": {},
   "source": [
    "## 4.1. Filtering rows "
   ]
  },
  {
   "cell_type": "markdown",
   "metadata": {},
   "source": [
    "## 4.2. Selecting columns"
   ]
  },
  {
   "cell_type": "markdown",
   "metadata": {},
   "source": [
    "# 5.0. Exploratory Data Analysis"
   ]
  },
  {
   "cell_type": "code",
   "execution_count": 232,
   "metadata": {
    "ExecuteTime": {
     "end_time": "2021-03-15T02:05:13.175994Z",
     "start_time": "2021-03-15T02:05:13.168064Z"
    }
   },
   "outputs": [],
   "source": [
    "df5 = df4.copy()"
   ]
  },
  {
   "cell_type": "markdown",
   "metadata": {},
   "source": [
    "## 5.1. Univariate Analysis"
   ]
  },
  {
   "cell_type": "markdown",
   "metadata": {},
   "source": [
    "### 5.1.1.  Response Variable"
   ]
  },
  {
   "cell_type": "markdown",
   "metadata": {},
   "source": [
    "### 5.1.2. Numerical Variables"
   ]
  },
  {
   "cell_type": "code",
   "execution_count": 281,
   "metadata": {
    "ExecuteTime": {
     "end_time": "2021-03-15T02:33:09.301382Z",
     "start_time": "2021-03-15T02:33:07.432699Z"
    }
   },
   "outputs": [
    {
     "data": {
      "text/plain": [
       "<AxesSubplot:title={'center':'Distribution of quantity of products (monetary)'}, xlabel='monetary', ylabel='Count'>"
      ]
     },
     "execution_count": 281,
     "metadata": {},
     "output_type": "execute_result"
    },
    {
     "data": {
      "image/png": "[encoded data removed]",
      "text/plain": [
       "<Figure size 1224x792 with 3 Axes>"
      ]
     },
     "metadata": {
      "needs_background": "light"
     },
     "output_type": "display_data"
    }
   ],
   "source": [
    "plt.figure(figsize=(17,11))\n",
    "plt.subplot(2,2,1)\n",
    "plt.title('Distribution of recency')\n",
    "plt.xticks( np.arange(0, 100, 5), rotation=0 )\n",
    "plt.xlim((0,35))\n",
    "sns.histplot(df5['recency'])\n",
    "\n",
    "plt.subplot(2,2,2)\n",
    "plt.title('Distribution of frequency')\n",
    "plt.xticks( np.arange(0, 8, 1), rotation=-30 )\n",
    "plt.xlim((0,8))\n",
    "sns.histplot(df5['frequency'])\n",
    "\n",
    "plt.subplot(2,2,3)\n",
    "plt.title('Distribution of quantity of products (monetary)')\n",
    "plt.xticks( np.arange(0, 90, 5), rotation=-20 )\n",
    "plt.xlim((0,90))\n",
    "sns.histplot(df5['monetary'])"
   ]
  },
  {
   "cell_type": "markdown",
   "metadata": {},
   "source": [
    "### 5.1.3. Categorical Variables"
   ]
  },
  {
   "cell_type": "markdown",
   "metadata": {
    "heading_collapsed": true
   },
   "source": [
    "## 5.2. Bivariate Analysis"
   ]
  },
  {
   "cell_type": "markdown",
   "metadata": {
    "hidden": true
   },
   "source": [
    "### 5.2.1. HIP 1."
   ]
  },
  {
   "cell_type": "markdown",
   "metadata": {
    "heading_collapsed": true
   },
   "source": [
    "## 5.3. Multivariate Analysis"
   ]
  },
  {
   "cell_type": "markdown",
   "metadata": {
    "hidden": true
   },
   "source": [
    "### 5.3.1. Numerical Attributes"
   ]
  },
  {
   "cell_type": "markdown",
   "metadata": {
    "hidden": true
   },
   "source": [
    "### 5.3.2. Categorical Attributes"
   ]
  },
  {
   "cell_type": "markdown",
   "metadata": {},
   "source": [
    "# 6.0. Data Preparation"
   ]
  },
  {
   "cell_type": "code",
   "execution_count": 284,
   "metadata": {
    "ExecuteTime": {
     "end_time": "2021-03-15T02:34:31.156559Z",
     "start_time": "2021-03-15T02:34:31.149266Z"
    }
   },
   "outputs": [],
   "source": [
    "df6 = df5.copy()"
   ]
  },
  {
   "cell_type": "markdown",
   "metadata": {},
   "source": [
    "## 6.1. Normalization"
   ]
  },
  {
   "cell_type": "markdown",
   "metadata": {},
   "source": [
    "## 6.2. Rescaling "
   ]
  },
  {
   "cell_type": "markdown",
   "metadata": {
    "ExecuteTime": {
     "end_time": "2021-03-15T02:22:31.644398Z",
     "start_time": "2021-03-15T02:22:31.633752Z"
    }
   },
   "source": [
    "**Recency**"
   ]
  },
  {
   "cell_type": "code",
   "execution_count": 285,
   "metadata": {
    "ExecuteTime": {
     "end_time": "2021-03-15T02:34:32.180706Z",
     "start_time": "2021-03-15T02:34:32.017387Z"
    }
   },
   "outputs": [
    {
     "data": {
      "text/plain": [
       "<AxesSubplot:>"
      ]
     },
     "execution_count": 285,
     "metadata": {},
     "output_type": "execute_result"
    },
    {
     "data": {
      "image/png": "[encoded data removed]",
      "text/plain": [
       "<Figure size 864x288 with 1 Axes>"
      ]
     },
     "metadata": {
      "needs_background": "light"
     },
     "output_type": "display_data"
    }
   ],
   "source": [
    "plt.figure(figsize=(12,4))\n",
    "sns.boxplot( data=df6['recency'], orient='h' )"
   ]
  },
  {
   "cell_type": "markdown",
   "metadata": {},
   "source": [
    "We can notice in the box plot above that there aren't outliers, so we can use a Min-Max Scaler"
   ]
  },
  {
   "cell_type": "code",
   "execution_count": 286,
   "metadata": {
    "ExecuteTime": {
     "end_time": "2021-03-15T02:34:32.541601Z",
     "start_time": "2021-03-15T02:34:32.532327Z"
    }
   },
   "outputs": [],
   "source": [
    "mms = MinMaxScaler()\n",
    "df6['recency'] = mms.fit_transform( df6[['recency']].values )"
   ]
  },
  {
   "cell_type": "code",
   "execution_count": 287,
   "metadata": {
    "ExecuteTime": {
     "end_time": "2021-03-15T02:34:33.399618Z",
     "start_time": "2021-03-15T02:34:32.782985Z"
    }
   },
   "outputs": [
    {
     "data": {
      "text/plain": [
       "<AxesSubplot:>"
      ]
     },
     "execution_count": 287,
     "metadata": {},
     "output_type": "execute_result"
    },
    {
     "data": {
      "image/png": "[encoded data removed]",
      "text/plain": [
       "<Figure size 864x288 with 1 Axes>"
      ]
     },
     "metadata": {
      "needs_background": "light"
     },
     "output_type": "display_data"
    }
   ],
   "source": [
    "plt.figure(figsize=(12,4))\n",
    "sns.boxplot( data=df6['recency'], orient='h' )"
   ]
  },
  {
   "cell_type": "markdown",
   "metadata": {
    "ExecuteTime": {
     "end_time": "2021-03-15T02:22:46.503821Z",
     "start_time": "2021-03-15T02:22:46.497527Z"
    }
   },
   "source": [
    "**Frequency**"
   ]
  },
  {
   "cell_type": "code",
   "execution_count": 288,
   "metadata": {
    "ExecuteTime": {
     "end_time": "2021-03-15T02:34:33.552280Z",
     "start_time": "2021-03-15T02:34:33.402092Z"
    }
   },
   "outputs": [
    {
     "data": {
      "text/plain": [
       "<AxesSubplot:>"
      ]
     },
     "execution_count": 288,
     "metadata": {},
     "output_type": "execute_result"
    },
    {
     "data": {
      "image/png": "[encoded data removed]",
      "text/plain": [
       "<Figure size 864x288 with 1 Axes>"
      ]
     },
     "metadata": {
      "needs_background": "light"
     },
     "output_type": "display_data"
    }
   ],
   "source": [
    "plt.figure(figsize=(12,4))\n",
    "sns.boxplot( data=df6['frequency'], orient='h' )"
   ]
  },
  {
   "cell_type": "code",
   "execution_count": 289,
   "metadata": {
    "ExecuteTime": {
     "end_time": "2021-03-15T02:34:33.564896Z",
     "start_time": "2021-03-15T02:34:33.556120Z"
    }
   },
   "outputs": [],
   "source": [
    "rs = RobustScaler()\n",
    "df6['frequency'] = rs.fit_transform( df6[['frequency']].values )"
   ]
  },
  {
   "cell_type": "code",
   "execution_count": 290,
   "metadata": {
    "ExecuteTime": {
     "end_time": "2021-03-15T02:34:33.827313Z",
     "start_time": "2021-03-15T02:34:33.621307Z"
    }
   },
   "outputs": [
    {
     "data": {
      "text/plain": [
       "<AxesSubplot:>"
      ]
     },
     "execution_count": 290,
     "metadata": {},
     "output_type": "execute_result"
    },
    {
     "data": {
      "image/png": "[encoded data removed]",
      "text/plain": [
       "<Figure size 864x288 with 1 Axes>"
      ]
     },
     "metadata": {
      "needs_background": "light"
     },
     "output_type": "display_data"
    }
   ],
   "source": [
    "plt.figure(figsize=(12,4))\n",
    "sns.boxplot( data=df6['frequency'], orient='h' )"
   ]
  },
  {
   "cell_type": "markdown",
   "metadata": {},
   "source": [
    "**Monetary**"
   ]
  },
  {
   "cell_type": "code",
   "execution_count": 291,
   "metadata": {
    "ExecuteTime": {
     "end_time": "2021-03-15T02:34:34.214351Z",
     "start_time": "2021-03-15T02:34:34.023705Z"
    }
   },
   "outputs": [
    {
     "data": {
      "text/plain": [
       "<AxesSubplot:>"
      ]
     },
     "execution_count": 291,
     "metadata": {},
     "output_type": "execute_result"
    },
    {
     "data": {
      "image/png": "[encoded data removed]",
      "text/plain": [
       "<Figure size 864x288 with 1 Axes>"
      ]
     },
     "metadata": {
      "needs_background": "light"
     },
     "output_type": "display_data"
    }
   ],
   "source": [
    "plt.figure(figsize=(12,4))\n",
    "sns.boxplot( data=df6['monetary'], orient='h' )"
   ]
  },
  {
   "cell_type": "code",
   "execution_count": 292,
   "metadata": {
    "ExecuteTime": {
     "end_time": "2021-03-15T02:34:34.225507Z",
     "start_time": "2021-03-15T02:34:34.216489Z"
    }
   },
   "outputs": [],
   "source": [
    "rs = RobustScaler()\n",
    "df6['monetary'] = rs.fit_transform( df6[['monetary']].values )"
   ]
  },
  {
   "cell_type": "code",
   "execution_count": 293,
   "metadata": {
    "ExecuteTime": {
     "end_time": "2021-03-15T02:34:34.535963Z",
     "start_time": "2021-03-15T02:34:34.336960Z"
    }
   },
   "outputs": [
    {
     "data": {
      "text/plain": [
       "<AxesSubplot:>"
      ]
     },
     "execution_count": 293,
     "metadata": {},
     "output_type": "execute_result"
    },
    {
     "data": {
      "image/png": "[encoded data removed]",
      "text/plain": [
       "<Figure size 864x288 with 1 Axes>"
      ]
     },
     "metadata": {
      "needs_background": "light"
     },
     "output_type": "display_data"
    }
   ],
   "source": [
    "plt.figure(figsize=(12,4))\n",
    "sns.boxplot( data=df6['monetary'], orient='h' )"
   ]
  },
  {
   "cell_type": "markdown",
   "metadata": {},
   "source": [
    "## 6.3. Transformation"
   ]
  },
  {
   "cell_type": "markdown",
   "metadata": {},
   "source": [
    "### 6.3.1. Encoding"
   ]
  },
  {
   "cell_type": "markdown",
   "metadata": {},
   "source": [
    "### 6.3.2. Transformation of target variables"
   ]
  },
  {
   "cell_type": "code",
   "execution_count": null,
   "metadata": {},
   "outputs": [],
   "source": []
  },
  {
   "cell_type": "markdown",
   "metadata": {
    "heading_collapsed": true
   },
   "source": [
    "# 7.0. Feature Selection"
   ]
  },
  {
   "cell_type": "markdown",
   "metadata": {
    "ExecuteTime": {
     "end_time": "2021-03-09T21:45:10.982274Z",
     "start_time": "2021-03-09T21:45:10.979082Z"
    },
    "hidden": true
   },
   "source": [
    "## 7.1. Splitting between Train and Test set"
   ]
  },
  {
   "cell_type": "markdown",
   "metadata": {
    "hidden": true
   },
   "source": [
    "## 7.2. Boruta as Automated Feature Selection"
   ]
  },
  {
   "cell_type": "markdown",
   "metadata": {
    "ExecuteTime": {
     "end_time": "2021-03-09T21:46:07.442412Z",
     "start_time": "2021-03-09T21:46:07.438529Z"
    },
    "hidden": true
   },
   "source": [
    "## 7.3. Manual Feature Selection"
   ]
  },
  {
   "cell_type": "markdown",
   "metadata": {},
   "source": [
    "# 8.0. Machine Learning Model"
   ]
  },
  {
   "cell_type": "markdown",
   "metadata": {},
   "source": [
    "# 9.0. Hyperparameter Fine Tuning"
   ]
  },
  {
   "cell_type": "markdown",
   "metadata": {},
   "source": [
    "# 10.0. Performance analysis"
   ]
  }
 ],
 "metadata": {
  "kernelspec": {
   "display_name": "Python 3",
   "language": "python",
   "name": "python3"
  },
  "language_info": {
   "codemirror_mode": {
    "name": "ipython",
    "version": 3
   },
   "file_extension": ".py",
   "mimetype": "text/x-python",
   "name": "python",
   "nbconvert_exporter": "python",
   "pygments_lexer": "ipython3",
   "version": "3.6.9"
  }
 },
 "nbformat": 4,
 "nbformat_minor": 4
}
